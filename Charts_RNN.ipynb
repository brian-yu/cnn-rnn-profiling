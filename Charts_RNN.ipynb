{
 "cells": [
  {
   "cell_type": "code",
   "execution_count": 34,
   "metadata": {},
   "outputs": [],
   "source": [
    "import os\n",
    "\n",
    "import tensorflow.compat.v1 as tf\n",
    "from nn_regressors import CNN, RNN, benchmark_model\n",
    "from sklearn.metrics import mean_squared_error\n",
    "from sklearn.linear_model import Lasso, ElasticNet, Ridge\n",
    "from sklearn.svm import SVR, NuSVR\n",
    "from sklearn.ensemble import RandomForestRegressor\n",
    "import lightgbm as lgb\n",
    "import numpy as np\n",
    "\n",
    "from tensorflow.compat.v1.keras.models import Sequential\n",
    "from tensorflow.compat.v1.keras.layers import Dense, Dropout, Activation, Embedding, LSTM, Bidirectional, Conv1D, MaxPooling1D\n",
    "\n",
    "from lstm import create_lstm\n",
    "from seq2seq import create_seq2seq"
   ]
  },
  {
   "cell_type": "code",
   "execution_count": 11,
   "metadata": {
    "collapsed": true
   },
   "outputs": [],
   "source": [
    "def clear_saved_regressors():\n",
    "    to_delete = [\n",
    "        \"cnn_cpu.joblib\",\n",
    "        \"cnn_mem.joblib\",\n",
    "        \"rnn_cpu.joblib\",\n",
    "        \"rnn_mem.joblib\",\n",
    "    ]\n",
    "    for file in to_delete:\n",
    "        if os.path.exists(file):\n",
    "            os.remove(file)"
   ]
  },
  {
   "cell_type": "code",
   "execution_count": 12,
   "metadata": {
    "collapsed": true
   },
   "outputs": [],
   "source": [
    "clear_saved_regressors()"
   ]
  },
  {
   "cell_type": "code",
   "execution_count": 13,
   "metadata": {
    "collapsed": true
   },
   "outputs": [],
   "source": [
    "rnn_cpu_reg = RNN.CPURegressor()\n",
    "rnn_mem_reg = RNN.MemoryRegressor()"
   ]
  },
  {
   "cell_type": "code",
   "execution_count": 14,
   "metadata": {},
   "outputs": [],
   "source": [
    "# Instantiate example models.\n",
    "lstm = create_lstm()\n",
    "enc, dec = create_seq2seq()\n",
    "\n",
    "\n",
    "models = [lstm, enc, dec]\n",
    "for model in models:\n",
    "    rnn_cpu_reg.add_model_data(model)\n",
    "    rnn_mem_reg.add_model_data(model)\n"
   ]
  },
  {
   "cell_type": "code",
   "execution_count": 15,
   "metadata": {
    "collapsed": true
   },
   "outputs": [],
   "source": [
    "# Compare different regressor types\n",
    "\n",
    "# Defines custom loss function for LGBM that penalizes underestimates.\n",
    "# See https://towardsdatascience.com/custom-loss-functions-for-gradient-boosting-f79c1b40466d\n",
    "def custom_asymmetric_train(y_true, y_pred):\n",
    "    residual = (y_true - y_pred).astype(\"float\")\n",
    "    grad = np.where(residual > 0, -2 * 10.0 * residual, -2 * residual)\n",
    "    hess = np.where(residual > 0, 2 * 10.0, 2.0)\n",
    "    return grad, hess\n",
    "\n",
    "\n",
    "gbm = lgb.LGBMRegressor()\n",
    "gbm.set_params(\n",
    "    **{\"objective\": custom_asymmetric_train, \"num_leaves\": 70, \"max_bin\": 400}, metrics=[\"mse\", \"mae\"]\n",
    ")\n",
    "\n",
    "\n",
    "def get_regressors():\n",
    "    return [\n",
    "        Ridge(),\n",
    "        RandomForestRegressor(n_estimators=750, random_state=42, criterion=\"mae\"),\n",
    "        Lasso(),\n",
    "        ElasticNet(),\n",
    "        SVR(),\n",
    "        NuSVR(),\n",
    "        gbm,\n",
    "    ]"
   ]
  },
  {
   "cell_type": "code",
   "execution_count": 44,
   "metadata": {
    "collapsed": true
   },
   "outputs": [],
   "source": [
    "import matplotlib.pyplot as plt\n",
    "def bar_plot(data_df, title, xlabel, ylabel, ax=None):\n",
    "    if not ax:\n",
    "        plt.bar(range(len(data_df)), data_df['MASE'], tick_label=data_df['Model'])\n",
    "        plt.title(title)\n",
    "        plt.ylabel(ylabel)\n",
    "        plt.xlabel(xlabel)\n",
    "        plt.xticks(rotation=90)\n",
    "        plt.show()\n",
    "    else:\n",
    "        ax.bar(range(len(data_df)), data_df['MASE'], tick_label=data_df['Model'])\n",
    "        ax.set_title(title)\n",
    "        ax.set_ylabel(ylabel)\n",
    "        ax.set_xlabel(xlabel)\n",
    "        for tick in ax.get_xticklabels():\n",
    "            tick.set_rotation(90)"
   ]
  },
  {
   "cell_type": "markdown",
   "metadata": {},
   "source": [
    "# MASE evaluations"
   ]
  },
  {
   "cell_type": "code",
   "execution_count": 18,
   "metadata": {},
   "outputs": [
    {
     "data": {
      "text/plain": [
       "(   units  filters  kernel_size  activation_tanh  activation_nan  \\\n",
       " 3   10.0     -1.0           -1                1               0   \n",
       " 4   32.0     -1.0           -1                1               0   \n",
       " 1  256.0     -1.0           -1                1               0   \n",
       " \n",
       "    activation_selu  activation_elu  activation_softmax  activation_softplus  \\\n",
       " 3             -1.0            -1.0                -1.0                 -1.0   \n",
       " 4             -1.0            -1.0                -1.0                 -1.0   \n",
       " 1             -1.0            -1.0                -1.0                 -1.0   \n",
       " \n",
       "    activation_softsign  activation_relu  activation_sigmoid  \\\n",
       " 3                 -1.0             -1.0                -1.0   \n",
       " 4                 -1.0             -1.0                -1.0   \n",
       " 1                 -1.0             -1.0                -1.0   \n",
       " \n",
       "    activation_hard_sigmoid  activation_exponential  activation_linear  \\\n",
       " 3                     -1.0                    -1.0               -1.0   \n",
       " 4                     -1.0                    -1.0               -1.0   \n",
       " 1                     -1.0                    -1.0               -1.0   \n",
       " \n",
       "    input_size  output_size  stride_size  \n",
       " 3        8000         2500           -1  \n",
       " 4        2500         8000           -1  \n",
       " 1          71          768           -1  , 3    32.000\n",
       " 4    32.000\n",
       " 1     1.024\n",
       " Name: [mem KB], dtype: float64)"
      ]
     },
     "execution_count": 18,
     "metadata": {},
     "output_type": "execute_result"
    }
   ],
   "source": [
    "# Fit regressors to new model data.\n",
    "rnn_cpu_reg.fit(model=SVR())  # Fit an SvR model\n",
    "rnn_mem_reg.fit()  # default to Random Forest"
   ]
  },
  {
   "cell_type": "markdown",
   "metadata": {},
   "source": [
    "## Predicting CPU for models the regressor was trained on"
   ]
  },
  {
   "cell_type": "code",
   "execution_count": 46,
   "metadata": {},
   "outputs": [
    {
     "data": {
      "image/png": "[encoded data removed]",
      "text/plain": [
       "<Figure size 432x288 with 2 Axes>"
      ]
     },
     "metadata": {},
     "output_type": "display_data"
    }
   ],
   "source": [
    "# Predicting CPU for models the regressor was trained on\n",
    "\n",
    "fig, (ax1, ax2) = plt.subplots(1, 2, sharey=True)\n",
    "\n",
    "rnn_cpu_reg.fit(model=SVR())  # Fit an SVR model\n",
    "bar_plot(rnn_cpu_reg.evaluate_mase_multiple(models), \"CNN SVR CPU MASE\", \"Models\", \"MASE\", ax=ax1)\n",
    "\n",
    "rnn_cpu_reg.fit(model=RandomForestRegressor(n_estimators=1000, random_state=42))  # Fit an SVR model\n",
    "bar_plot(rnn_cpu_reg.evaluate_mase_multiple(models), \"CNN Random Forest CPU MASE\", \"Models\", \"MASE\", ax=ax2)\n",
    "\n",
    "plt.show()"
   ]
  },
  {
   "cell_type": "markdown",
   "metadata": {},
   "source": [
    "## Predicting CPU for models the regressor was NOT trained on"
   ]
  },
  {
   "cell_type": "code",
   "execution_count": 47,
   "metadata": {},
   "outputs": [
    {
     "data": {
      "image/png": "[encoded data removed]",
      "text/plain": [
       "<Figure size 432x288 with 2 Axes>"
      ]
     },
     "metadata": {},
     "output_type": "display_data"
    }
   ],
   "source": [
    "# Predicting CPU for models the regressor was NOT trained on\n",
    "tf.keras.backend.clear_session() # IMPORTANT for layer names to match up.\n",
    "test_rnn = Sequential(name=\"conv_lstm\")\n",
    "test_rnn.add(Embedding(20000, 128, input_length=100))\n",
    "test_rnn.add(Dropout(0.25))\n",
    "test_rnn.add(Conv1D(64,\n",
    "                 5,\n",
    "                 padding='valid',\n",
    "                 activation='relu',\n",
    "                 strides=1))\n",
    "test_rnn.add(MaxPooling1D(pool_size=4))\n",
    "test_rnn.add(LSTM(70))\n",
    "test_rnn.add(Dense(1))\n",
    "test_rnn.add(Activation('sigmoid'))\n",
    "test_rnn.compile(loss='binary_crossentropy',\n",
    "              optimizer='adam',\n",
    "              metrics=['accuracy'])\n",
    "\n",
    "\n",
    "mase_1 = rnn_cpu_reg.evaluate_mase(test_rnn)\n",
    "\n",
    "\n",
    "tf.keras.backend.clear_session() # IMPORTANT for layer names to match up.\n",
    "test_rnn_2 = Sequential(name=\"bidirectional_lstm\")\n",
    "test_rnn_2.add(Embedding(20000, 128, input_length=100))\n",
    "test_rnn_2.add(Bidirectional(LSTM(64)))\n",
    "test_rnn_2.add(Dropout(0.5))\n",
    "test_rnn_2.add(Dense(1, activation='sigmoid'))\n",
    "test_rnn_2.compile('adam', 'binary_crossentropy', metrics=['accuracy'])\n",
    "\n",
    "mase_2 = rnn_cpu_reg.evaluate_mase(test_rnn_2)\n",
    "\n",
    "fig, (ax1, ax2) = plt.subplots(1, 2, sharey=True)\n",
    "\n",
    "new_models = [test_rnn, test_rnn_2]\n",
    "rnn_cpu_reg.fit(model=SVR())  # Fit an SVR model\n",
    "bar_plot(rnn_cpu_reg.evaluate_mase_multiple(new_models), \"RNN SVR CPU MASE\", \"Models\", \"MASE\", ax=ax1)\n",
    "\n",
    "rnn_cpu_reg.fit(model=RandomForestRegressor(n_estimators=1000, random_state=42))  # Fit an SVR model\n",
    "bar_plot(rnn_cpu_reg.evaluate_mase_multiple(new_models), \"RNN Random Forest CPU MASE\", \"Models\", \"MASE\", ax=ax2)\n",
    "plt.show()"
   ]
  },
  {
   "cell_type": "markdown",
   "metadata": {},
   "source": [
    "## Predicting memory for models the regressor was trained on"
   ]
  },
  {
   "cell_type": "code",
   "execution_count": 55,
   "metadata": {},
   "outputs": [
    {
     "data": {
      "image/png": "[encoded data removed]",
      "text/plain": [
       "<Figure size 432x288 with 3 Axes>"
      ]
     },
     "metadata": {},
     "output_type": "display_data"
    }
   ],
   "source": [
    "# Predicting memory for models the regressor was trained on\n",
    "fig, (ax1, ax2, ax3) = plt.subplots(1, 3, sharey=True)\n",
    "\n",
    "rnn_mem_reg.fit(model=SVR())  # Fit an SVR model\n",
    "bar_plot(rnn_mem_reg.evaluate_mase_multiple(models), \"SVR\", \"Models\", \"MASE\", ax=ax1)\n",
    "\n",
    "rnn_mem_reg.fit(model=RandomForestRegressor(n_estimators=1000, random_state=42))  # Fit an SVR model\n",
    "bar_plot(rnn_mem_reg.evaluate_mase_multiple(models), \"Random Forest\", \"Models\", \"MASE\", ax=ax2)\n",
    "\n",
    "rnn_mem_reg.fit(model=gbm)  # Fit an SVR model\n",
    "bar_plot(rnn_mem_reg.evaluate_mase_multiple(models), \"XGBoost\", \"Models\", \"MASE\", ax=ax3)\n",
    "\n",
    "plt.show()"
   ]
  },
  {
   "cell_type": "markdown",
   "metadata": {},
   "source": [
    "## Predicting memory for models the regressor was NOT trained on"
   ]
  },
  {
   "cell_type": "code",
   "execution_count": 53,
   "metadata": {},
   "outputs": [
    {
     "data": {
      "image/png": "[encoded data removed]",
      "text/plain": [
       "<Figure size 432x288 with 3 Axes>"
      ]
     },
     "metadata": {},
     "output_type": "display_data"
    }
   ],
   "source": [
    "# Predicting memory for models the regressor was NOT trained on\n",
    "fig, (ax1, ax2, ax3) = plt.subplots(1, 3, sharey=True)\n",
    "\n",
    "rnn_mem_reg.fit(model=SVR())  # Fit an SVR model\n",
    "bar_plot(rnn_mem_reg.evaluate_mase_multiple(new_models), \"SVR\", \"Models\", \"MASE\", ax=ax1)\n",
    "\n",
    "rnn_mem_reg.fit(model=RandomForestRegressor(n_estimators=1000, random_state=42))  # Fit an SVR model\n",
    "bar_plot(rnn_mem_reg.evaluate_mase_multiple(new_models), \"Random Forest\", \"Models\", \"MASE\", ax=ax2)\n",
    "\n",
    "rnn_mem_reg.fit(model=gbm)  # Fit an SVR model\n",
    "bar_plot(rnn_mem_reg.evaluate_mase_multiple(new_models), \"XGBoost\", \"Models\", \"MASE\", ax=ax3)\n",
    "\n",
    "plt.show()"
   ]
  }
 ],
 "metadata": {
  "kernelspec": {
   "display_name": "Python 3",
   "language": "python",
   "name": "python3"
  },
  "language_info": {
   "codemirror_mode": {
    "name": "ipython",
    "version": 3
   },
   "file_extension": ".py",
   "mimetype": "text/x-python",
   "name": "python",
   "nbconvert_exporter": "python",
   "pygments_lexer": "ipython3",
   "version": "3.6.7"
  }
 },
 "nbformat": 4,
 "nbformat_minor": 2
}
