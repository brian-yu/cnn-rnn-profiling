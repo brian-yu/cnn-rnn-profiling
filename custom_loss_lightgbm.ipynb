{
 "cells": [
  {
   "cell_type": "code",
   "execution_count": 1,
   "metadata": {
    "collapsed": true
   },
   "outputs": [],
   "source": [
    "%load_ext autoreload\n",
    "%autoreload 2\n",
    "%matplotlib inline"
   ]
  },
  {
   "cell_type": "code",
   "execution_count": 2,
   "metadata": {
    "collapsed": true
   },
   "outputs": [],
   "source": [
    "import pandas as pd\n",
    "import numpy as np\n",
    "import matplotlib.pyplot as plt\n",
    "from lightgbm import LGBMRegressor\n",
    "import lightgbm \n",
    "from sklearn.datasets import make_friedman2, make_friedman1, make_regression\n",
    "from sklearn.model_selection import train_test_split\n",
    "from sklearn.ensemble import RandomForestRegressor\n",
    "import lightgbm\n",
    "from sklearn.metrics import mean_squared_error\n",
    "import seaborn as sns; sns.set()\n",
    "from sklearn.ensemble import RandomForestRegressor\n",
    "from sklearn.metrics import mean_absolute_error, mean_squared_error"
   ]
  },
  {
   "cell_type": "code",
   "execution_count": 3,
   "metadata": {
    "collapsed": true
   },
   "outputs": [],
   "source": [
    "sns.set_style(\"whitegrid\", {'axes.grid' : False})"
   ]
  },
  {
   "cell_type": "markdown",
   "metadata": {},
   "source": [
    "### Simulating Friendman dataset"
   ]
  },
  {
   "cell_type": "markdown",
   "metadata": {},
   "source": [
    "**About the dataset**\n",
    "\n",
    "Inputs X are independent features uniformly distributed on the interval [0, 1]. The output y is created according to the formula:   \n",
    "`y(X) = 10 * sin(pi * X[:, 0] * X[:, 1]) + 20 * (X[:, 2] - 0.5) ** 2 + 10 * X[:, 3] + 5 * X[:, 4] + noise * N(0, 1).`\n",
    "\n",
    "Out of the n_features features, only 5 are actually used to compute y. The remaining features are independent of y."
   ]
  },
  {
   "cell_type": "code",
   "execution_count": 4,
   "metadata": {
    "collapsed": true
   },
   "outputs": [],
   "source": [
    "# simulating 10,000 data points with 2 useless and 5 uniformly distributed features\n",
    "\n",
    "X, y = make_friedman1(n_samples=10000, n_features=7, noise=0.0, random_state=11)"
   ]
  },
  {
   "cell_type": "code",
   "execution_count": 5,
   "metadata": {},
   "outputs": [
    {
     "data": {
      "text/plain": [
       "(0.3545368892371061, 28.516918961287963)"
      ]
     },
     "execution_count": 5,
     "metadata": {},
     "output_type": "execute_result"
    }
   ],
   "source": [
    "min(y), max(y) "
   ]
  },
  {
   "cell_type": "code",
   "execution_count": 6,
   "metadata": {},
   "outputs": [
    {
     "data": {
      "image/png": "[encoded data removed]",
      "text/plain": [
       "<Figure size 576x396 with 1 Axes>"
      ]
     },
     "metadata": {},
     "output_type": "display_data"
    }
   ],
   "source": [
    "# distribution of target variable\n",
    "h = plt.hist(y)"
   ]
  },
  {
   "cell_type": "code",
   "execution_count": 7,
   "metadata": {
    "collapsed": true
   },
   "outputs": [],
   "source": [
    "# train-validation split\n",
    "X_train, X_valid, y_train, y_valid = train_test_split(X, y, test_size=0.20, random_state=42)"
   ]
  },
  {
   "cell_type": "code",
   "execution_count": 8,
   "metadata": {
    "collapsed": true
   },
   "outputs": [],
   "source": [
    "# test set for generalization of scores\n",
    "X_test, y_test = make_friedman1(n_samples=5000, n_features=7, noise=0.0, random_state=21)"
   ]
  },
  {
   "cell_type": "code",
   "execution_count": 9,
   "metadata": {},
   "outputs": [],
   "source": [
    "### Plotting helper functions\n",
    "\n",
    "def plot_residual_distribution(model):\n",
    "    \"\"\"\n",
    "    Density plot of residuals (y_true - y_pred) for testation set for given model \n",
    "    \"\"\"\n",
    "    ax = sns.distplot(y_test - model.predict(X_test), hist = False, kde = True,\n",
    "                 kde_kws = {'shade': True, 'linewidth': 3}, axlabel=\"Residual\")\n",
    "    title = ax.set_title('Kernel density of residuals', size=15)\n",
    "\n",
    "def plot_scatter_pred_actual(model):\n",
    "    \"\"\"\n",
    "    Scatter plot of predictions from given model vs true target variable from testation set\n",
    "    \"\"\"\n",
    "    ax = sns.scatterplot(x=model.predict(X_test), y = y_test)\n",
    "    ax.set_xlabel('Predictions')\n",
    "    ax.set_ylabel('Actuals')\n",
    "    title = ax.set_title('Actual vs Prediction scatter plot', size=15)    "
   ]
  },
  {
   "cell_type": "markdown",
   "metadata": {},
   "source": [
    "### Random Forest"
   ]
  },
  {
   "cell_type": "code",
   "execution_count": 10,
   "metadata": {},
   "outputs": [
    {
     "data": {
      "text/plain": [
       "RandomForestRegressor(bootstrap=True, ccp_alpha=0.0, criterion='mse',\n",
       "                      max_depth=None, max_features='auto', max_leaf_nodes=None,\n",
       "                      max_samples=None, min_impurity_decrease=0.0,\n",
       "                      min_impurity_split=None, min_samples_leaf=1,\n",
       "                      min_samples_split=2, min_weight_fraction_leaf=0.0,\n",
       "                      n_estimators=50, n_jobs=None, oob_score=True,\n",
       "                      random_state=33, verbose=0, warm_start=False)"
      ]
     },
     "execution_count": 10,
     "metadata": {},
     "output_type": "execute_result"
    }
   ],
   "source": [
    "# basic random forest regressor with mse as criterion to measure the quality of split\n",
    "\n",
    "rf = RandomForestRegressor(n_estimators=50, oob_score=True, random_state=33)\n",
    "rf.fit(X_train, y_train)"
   ]
  },
  {
   "cell_type": "code",
   "execution_count": 11,
   "metadata": {},
   "outputs": [
    {
     "data": {
      "image/png": "[encoded data removed]",
      "text/plain": [
       "<Figure size 576x396 with 1 Axes>"
      ]
     },
     "metadata": {},
     "output_type": "display_data"
    }
   ],
   "source": [
    "# distribution of residual\n",
    "plot_residual_distribution(rf)"
   ]
  },
  {
   "cell_type": "code",
   "execution_count": 12,
   "metadata": {},
   "outputs": [
    {
     "ename": "AttributeError",
     "evalue": "module 'seaborn' has no attribute 'scatterplot'",
     "output_type": "error",
     "traceback": [
      "\u001b[0;31m---------------------------------------------------------------------------\u001b[0m",
      "\u001b[0;31mAttributeError\u001b[0m                            Traceback (most recent call last)",
      "\u001b[0;32m<ipython-input-12-cd056cff16e9>\u001b[0m in \u001b[0;36m<module>\u001b[0;34m()\u001b[0m\n\u001b[0;32m----> 1\u001b[0;31m \u001b[0mplot_scatter_pred_actual\u001b[0m\u001b[0;34m(\u001b[0m\u001b[0mrf\u001b[0m\u001b[0;34m)\u001b[0m\u001b[0;34m\u001b[0m\u001b[0;34m\u001b[0m\u001b[0m\n\u001b[0m",
      "\u001b[0;32m<ipython-input-9-f10c49a1ae90>\u001b[0m in \u001b[0;36mplot_scatter_pred_actual\u001b[0;34m(model)\u001b[0m\n\u001b[1;32m     13\u001b[0m     \u001b[0mScatter\u001b[0m \u001b[0mplot\u001b[0m \u001b[0mof\u001b[0m \u001b[0mpredictions\u001b[0m \u001b[0;32mfrom\u001b[0m \u001b[0mgiven\u001b[0m \u001b[0mmodel\u001b[0m \u001b[0mvs\u001b[0m \u001b[0mtrue\u001b[0m \u001b[0mtarget\u001b[0m \u001b[0mvariable\u001b[0m \u001b[0;32mfrom\u001b[0m \u001b[0mtestation\u001b[0m \u001b[0mset\u001b[0m\u001b[0;34m\u001b[0m\u001b[0;34m\u001b[0m\u001b[0m\n\u001b[1;32m     14\u001b[0m     \"\"\"\n\u001b[0;32m---> 15\u001b[0;31m     \u001b[0max\u001b[0m \u001b[0;34m=\u001b[0m \u001b[0msns\u001b[0m\u001b[0;34m.\u001b[0m\u001b[0mscatterplot\u001b[0m\u001b[0;34m(\u001b[0m\u001b[0mx\u001b[0m\u001b[0;34m=\u001b[0m\u001b[0mmodel\u001b[0m\u001b[0;34m.\u001b[0m\u001b[0mpredict\u001b[0m\u001b[0;34m(\u001b[0m\u001b[0mX_test\u001b[0m\u001b[0;34m)\u001b[0m\u001b[0;34m,\u001b[0m \u001b[0my\u001b[0m \u001b[0;34m=\u001b[0m \u001b[0my_test\u001b[0m\u001b[0;34m)\u001b[0m\u001b[0;34m\u001b[0m\u001b[0;34m\u001b[0m\u001b[0m\n\u001b[0m\u001b[1;32m     16\u001b[0m     \u001b[0max\u001b[0m\u001b[0;34m.\u001b[0m\u001b[0mset_xlabel\u001b[0m\u001b[0;34m(\u001b[0m\u001b[0;34m'Predictions'\u001b[0m\u001b[0;34m)\u001b[0m\u001b[0;34m\u001b[0m\u001b[0;34m\u001b[0m\u001b[0m\n\u001b[1;32m     17\u001b[0m     \u001b[0max\u001b[0m\u001b[0;34m.\u001b[0m\u001b[0mset_ylabel\u001b[0m\u001b[0;34m(\u001b[0m\u001b[0;34m'Actuals'\u001b[0m\u001b[0;34m)\u001b[0m\u001b[0;34m\u001b[0m\u001b[0;34m\u001b[0m\u001b[0m\n",
      "\u001b[0;31mAttributeError\u001b[0m: module 'seaborn' has no attribute 'scatterplot'"
     ]
    }
   ],
   "source": [
    "plot_scatter_pred_actual(rf)"
   ]
  },
  {
   "cell_type": "code",
   "execution_count": 13,
   "metadata": {},
   "outputs": [
    {
     "name": "stdout",
     "output_type": "stream",
     "text": [
      "MSE is 1.0918979274016403\n"
     ]
    }
   ],
   "source": [
    "print(f\"MSE is {mean_squared_error(y_test, rf.predict(X_test))}\")"
   ]
  },
  {
   "cell_type": "markdown",
   "metadata": {},
   "source": [
    "### Default LightGBM"
   ]
  },
  {
   "cell_type": "markdown",
   "metadata": {},
   "source": [
    "#### LightGBM default: MSE\n"
   ]
  },
  {
   "cell_type": "code",
   "execution_count": 14,
   "metadata": {},
   "outputs": [
    {
     "data": {
      "text/plain": [
       "LGBMRegressor(boosting_type='gbdt', class_weight=None, colsample_bytree=1.0,\n",
       "              importance_type='split', learning_rate=0.1, max_depth=-1,\n",
       "              min_child_samples=20, min_child_weight=0.001, min_split_gain=0.0,\n",
       "              n_estimators=100, n_jobs=-1, num_leaves=31, objective=None,\n",
       "              random_state=33, reg_alpha=0.0, reg_lambda=0.0, silent=True,\n",
       "              subsample=1.0, subsample_for_bin=200000, subsample_freq=0)"
      ]
     },
     "execution_count": 14,
     "metadata": {},
     "output_type": "execute_result"
    }
   ],
   "source": [
    "# make new model on new value\n",
    "gbm = lightgbm.LGBMRegressor(random_state=33)\n",
    "gbm.fit(X_train,y_train)"
   ]
  },
  {
   "cell_type": "markdown",
   "metadata": {},
   "source": [
    "We see that GBM has performed a better than random forest model for our validation MSE score"
   ]
  },
  {
   "cell_type": "markdown",
   "metadata": {},
   "source": [
    "#### LightGBM default: MSE + early stopping\n"
   ]
  },
  {
   "cell_type": "code",
   "execution_count": 15,
   "metadata": {},
   "outputs": [
    {
     "name": "stderr",
     "output_type": "stream",
     "text": [
      "/Users/brian/anaconda/lib/python3.6/site-packages/lightgbm/engine.py:153: UserWarning: Found `early_stopping_rounds` in params. Will use it instead of argument\n",
      "  warnings.warn(\"Found `{}` in params. Will use it instead of argument\".format(alias))\n"
     ]
    },
    {
     "data": {
      "text/plain": [
       "LGBMRegressor(boosting_type='gbdt', class_weight=None, colsample_bytree=1.0,\n",
       "              early_stopping_rounds=10, importance_type='split',\n",
       "              learning_rate=0.1, max_depth=-1, min_child_samples=20,\n",
       "              min_child_weight=0.001, min_split_gain=0.0, n_estimators=10000,\n",
       "              n_jobs=-1, num_leaves=31, objective='regression', random_state=33,\n",
       "              reg_alpha=0.0, reg_lambda=0.0, silent=True, subsample=1.0,\n",
       "              subsample_for_bin=200000, subsample_freq=0)"
      ]
     },
     "execution_count": 15,
     "metadata": {},
     "output_type": "execute_result"
    }
   ],
   "source": [
    "# make new model on new value\n",
    "# 'regression' is actually also the default objective for LGBMRegressor\n",
    "\n",
    "gbm2 = lightgbm.LGBMRegressor(objective='regression',\n",
    "                              random_state=33,\n",
    "                              early_stopping_rounds = 10,\n",
    "                              n_estimators=10000\n",
    "                             )\n",
    "\n",
    "gbm2.fit(\n",
    "    X_train,\n",
    "    y_train,\n",
    "    eval_set=[(X_valid, y_valid)],\n",
    "    eval_metric='l2',  # also the default\n",
    "    verbose=False,\n",
    ")"
   ]
  },
  {
   "cell_type": "markdown",
   "metadata": {},
   "source": [
    "It is basically similar to the default model we fitted in the previous section but we did not use `eval_set` in that section. Because we are specifically mentioning `eval_set` in this case, we can leverage `early_stopping_rounds` and run for more boosting iterations which improves our model performance aand saves best score based on the give `metrics and eval_score`. "
   ]
  },
  {
   "cell_type": "markdown",
   "metadata": {},
   "source": [
    "We see an improvement in score as the model is able to run for more boosting iterations "
   ]
  },
  {
   "cell_type": "markdown",
   "metadata": {},
   "source": [
    "### Assymetric Custom Loss "
   ]
  },
  {
   "cell_type": "markdown",
   "metadata": {},
   "source": [
    "There are 2 parameters that we might be interested in which define the traininig process in gradient boosted based tree based models. In context of LightGBM, we \n",
    "\n",
    "In LightGBM training API: \n",
    "* fobj: Customized objective function\n",
    "* feval: Customized evaluation function. basically a way to use custom metric for cv. used in addition to metric \n",
    "* metric: a function to be monitored while doing cross validation. (select hyperparameters that minimize or maximuze this). can be plural\n",
    "\n",
    "In sklearn wrapper around LightGBM API:\n",
    "* objective: default parameter in model()\n",
    "* eval_metric in model.fit()\n",
    "\n",
    "I am going to use sklearn wrapper to set the objective and evaluation metric, but these are essentially the same"
   ]
  },
  {
   "cell_type": "markdown",
   "metadata": {},
   "source": [
    "Let's say that we don't want our model to overpredict, but we are fine with underpredictions.    \n",
    "\n",
    "We can make a custom loss which gives 10 times more penalty when the true targets\n",
    "are less than predictions as compared to when true targets are more"
   ]
  },
  {
   "cell_type": "code",
   "execution_count": 16,
   "metadata": {
    "collapsed": true
   },
   "outputs": [],
   "source": [
    "def custom_asymmetric_objective(y_true, y_pred):\n",
    "    residual = (y_true - y_pred).astype(\"float\")\n",
    "    grad = np.where(residual<0, -2*10.0*residual, -2*residual)\n",
    "    hess = np.where(residual<0, 2*10.0, 2.0)\n",
    "    return grad, hess\n",
    "\n",
    "def custom_asymmetric_eval(y_true, y_pred):\n",
    "    residual = (y_true - y_pred).astype(\"float\")\n",
    "    loss = np.where(residual < 0, (residual**2)*10.0, residual**2) \n",
    "    return \"custom_asymmetric_eval\", np.mean(loss), False"
   ]
  },
  {
   "cell_type": "code",
   "execution_count": 19,
   "metadata": {},
   "outputs": [
    {
     "data": {
      "text/plain": [
       "[<matplotlib.lines.Line2D at 0x11e97d8d0>]"
      ]
     },
     "execution_count": 19,
     "metadata": {},
     "output_type": "execute_result"
    },
    {
     "data": {
      "image/png": "[encoded data removed]",
      "text/plain": [
       "<Figure size 576x396 with 1 Axes>"
      ]
     },
     "metadata": {},
     "output_type": "display_data"
    }
   ],
   "source": [
    "y_true = np.repeat(0,1000)\n",
    "y_pred = np.linspace(-100,100,1000)\n",
    "residual = (y_true - y_pred).astype(\"float\")\n",
    "\n",
    "custom_loss = np.where(residual > 0, (residual**2)*10.0, residual**2) \n",
    "\n",
    "plt.plot(y_pred, custom_loss)"
   ]
  },
  {
   "cell_type": "markdown",
   "metadata": {},
   "source": [
    "#### Exploring our custom loss function with some plots"
   ]
  },
  {
   "cell_type": "code",
   "execution_count": null,
   "metadata": {},
   "outputs": [],
   "source": [
    "# let's see how our custom loss function looks with respect to different prediction values\n",
    "\n",
    "y_true = np.repeat(0,1000)\n",
    "y_pred = np.linspace(-100,100,1000)\n",
    "residual = (y_true - y_pred).astype(\"float\")\n",
    "\n",
    "custom_loss = np.where(residual < 0, (residual**2)*10.0, residual**2) \n",
    "\n",
    "fig, ax = plt.subplots(1,1, figsize=(8,4))\n",
    "sns.lineplot(y_pred, custom_loss, alpha=1, label=\"asymmetric mse\")\n",
    "sns.lineplot(y_pred, residual**2, alpha = 0.5, label = \"symmetric mse\", color=\"red\")\n",
    "ax.set_xlabel(\"Predictions\")\n",
    "ax.set_ylabel(\"Loss value\")\n",
    "\n",
    "fig.tight_layout()"
   ]
  },
  {
   "cell_type": "code",
   "execution_count": null,
   "metadata": {},
   "outputs": [],
   "source": [
    "grad, hess = custom_asymmetric_objective(y_true, y_pred)\n",
    "\n",
    "fig, ax = plt.subplots(1,1, figsize=(8,4))\n",
    "\n",
    "# ax.plot(y_hat, errors)\n",
    "ax.plot(y_pred, grad)\n",
    "ax.plot(y_pred, hess)\n",
    "ax.legend(('gradient', 'hessian'))\n",
    "ax.set_xlabel('Predictions')\n",
    "ax.set_ylabel('first or second derivates')\n",
    "\n",
    "fig.tight_layout()"
   ]
  },
  {
   "cell_type": "markdown",
   "metadata": {},
   "source": [
    "The behaviour of gradient of custom loss is as per our expecation. The slope has a little higher value when the residual is negative as compared to when it is positive"
   ]
  },
  {
   "cell_type": "markdown",
   "metadata": {},
   "source": [
    "#### LightGBM custom objective "
   ]
  },
  {
   "cell_type": "code",
   "execution_count": null,
   "metadata": {},
   "outputs": [],
   "source": [
    "# make new model on new value\n",
    "gbm3 = lightgbm.LGBMRegressor(random_state=33)\n",
    "gbm3.set_params(**{'objective': custom_asymmetric_objective}, metrics = [\"mse\", 'mae'])\n",
    "\n",
    "gbm3.fit(\n",
    "    X_train,\n",
    "    y_train,\n",
    "    eval_set=[(X_valid, y_valid)],\n",
    "    eval_metric='l2',\n",
    "    verbose=False,\n",
    ")"
   ]
  },
  {
   "cell_type": "markdown",
   "metadata": {},
   "source": [
    "#### LightGBM_early_boosting custom eval_metric\n"
   ]
  },
  {
   "cell_type": "code",
   "execution_count": null,
   "metadata": {},
   "outputs": [],
   "source": [
    "# make new model on new value\n",
    "gbm4 = lightgbm.LGBMRegressor(random_state=33,\n",
    "                              early_stopping_rounds = 10,\n",
    "                              n_estimators=10000\n",
    "                             )\n",
    "\n",
    "gbm4.set_params(**{'objective': \"regression\"}, metrics = [\"mse\", 'mae'])\n",
    "\n",
    "gbm4.fit(\n",
    "    X_train,\n",
    "    y_train,\n",
    "    eval_set=[(X_valid, y_valid)],\n",
    "    eval_metric=custom_asymmetric_eval,\n",
    "    verbose=False,\n",
    ")"
   ]
  },
  {
   "cell_type": "markdown",
   "metadata": {},
   "source": [
    "#### LightGBM_early_boosting custom objective"
   ]
  },
  {
   "cell_type": "code",
   "execution_count": null,
   "metadata": {},
   "outputs": [],
   "source": [
    "# make new model on new value\n",
    "gbm5 = lightgbm.LGBMRegressor(random_state=33,\n",
    "                              early_stopping_rounds = 10,\n",
    "                              n_estimators=10000\n",
    "                             )\n",
    "\n",
    "gbm5.set_params(**{'objective': custom_asymmetric_objective}, metrics = [\"mse\", 'mae'])\n",
    "\n",
    "gbm5.fit(\n",
    "    X_train,\n",
    "    y_train,\n",
    "    eval_set=[(X_valid, y_valid)],\n",
    "    eval_metric=\"l2\",\n",
    "    verbose=False,\n",
    ")"
   ]
  },
  {
   "cell_type": "markdown",
   "metadata": {},
   "source": [
    "#### LightGBM_early_boosting custom eval_metric + objective"
   ]
  },
  {
   "cell_type": "code",
   "execution_count": null,
   "metadata": {},
   "outputs": [],
   "source": [
    "# make new model on new value\n",
    "gbm6 = lightgbm.LGBMRegressor(random_state=33,\n",
    "                              early_stopping_rounds = 10,\n",
    "                              n_estimators=10000\n",
    "                             )\n",
    "\n",
    "gbm6.set_params(**{'objective': custom_asymmetric_objective}, metrics = [\"mse\", 'mae'])\n",
    "\n",
    "gbm6.fit(\n",
    "    X_train,\n",
    "    y_train,\n",
    "    eval_set=[(X_valid, y_valid)],\n",
    "    eval_metric=custom_asymmetric_eval,\n",
    "    verbose=False,\n",
    ")"
   ]
  },
  {
   "cell_type": "markdown",
   "metadata": {},
   "source": [
    "### Reporting scores for different models"
   ]
  },
  {
   "cell_type": "markdown",
   "metadata": {},
   "source": [
    "#### Scores table"
   ]
  },
  {
   "cell_type": "code",
   "execution_count": null,
   "metadata": {
    "collapsed": true
   },
   "outputs": [],
   "source": [
    "# asymmetric mse scores\n",
    "_,loss_rf,_ = custom_asymmetric_eval(y_test, rf.predict(X_test))\n",
    "_,loss_gbm,_ = custom_asymmetric_eval(y_test, gbm.predict(X_test))\n",
    "_,loss_gbm2,_ = custom_asymmetric_eval(y_test, gbm2.predict(X_test))\n",
    "_,loss_gbm3,_ = custom_asymmetric_eval(y_test, gbm3.predict(X_test))\n",
    "_,loss_gbm4,_ = custom_asymmetric_eval(y_test, gbm4.predict(X_test))\n",
    "_,loss_gbm5,_ = custom_asymmetric_eval(y_test, gbm5.predict(X_test))\n",
    "_,loss_gbm6,_ = custom_asymmetric_eval(y_test, gbm6.predict(X_test))"
   ]
  },
  {
   "cell_type": "code",
   "execution_count": null,
   "metadata": {
    "collapsed": true
   },
   "outputs": [],
   "source": [
    "score_dict = {'Random Forest default':\n",
    "              {'asymmetric custom mse (test)': loss_rf,\n",
    "               'asymmetric custom mse (train)': custom_asymmetric_eval(y_train, rf.predict(X_train))[1],\n",
    "               'symmetric mse': mean_squared_error(y_test, rf.predict(X_test)),\n",
    "               '# boosting rounds' : '-'},\n",
    "              \n",
    "              'LightGBM default' : \n",
    "              {'asymmetric custom mse (test)': loss_gbm,\n",
    "              'asymmetric custom mse (train)': custom_asymmetric_eval(y_train, gbm.predict(X_train))[1],\n",
    "               'symmetric mse': mean_squared_error(y_test, gbm.predict(X_test)), \n",
    "               '# boosting rounds' : gbm.booster_.current_iteration()},\n",
    "              \n",
    "              'LightGBM with custom training loss (no hyperparameter tuning)': \n",
    "              {'asymmetric custom mse (test)': loss_gbm3,\n",
    "               'asymmetric custom mse (train)': custom_asymmetric_eval(y_train, gbm3.predict(X_train))[1],               \n",
    "               'symmetric mse': mean_squared_error(y_test, gbm3.predict(X_test)),\n",
    "               '# boosting rounds' : gbm3.booster_.current_iteration()},\n",
    "              \n",
    "              'LightGBM with early stopping' : \n",
    "              {'asymmetric custom mse (test)': loss_gbm2,\n",
    "               'asymmetric custom mse (train)': custom_asymmetric_eval(y_train, gbm2.predict(X_train))[1],\n",
    "               'symmetric mse': mean_squared_error(y_test, gbm2.predict(X_test)),\n",
    "               '# boosting rounds' : gbm2.booster_.current_iteration()},\n",
    "\n",
    "             'LightGBM with early_stopping and custom validation loss': \n",
    "              {'asymmetric custom mse (test)': loss_gbm4,\n",
    "               'asymmetric custom mse (train)': custom_asymmetric_eval(y_train, gbm4.predict(X_train))[1],\n",
    "               'symmetric mse': mean_squared_error(y_test, gbm4.predict(X_test)),\n",
    "               '# boosting rounds' : gbm4.booster_.current_iteration()},\n",
    "              \n",
    "              'LightGBM with early_stopping and custom training loss': \n",
    "              {'asymmetric custom mse (test)': loss_gbm5,\n",
    "               'asymmetric custom mse (train)': custom_asymmetric_eval(y_train, gbm5.predict(X_train))[1],\n",
    "               'symmetric mse': mean_squared_error(y_test, gbm5.predict(X_test)),\n",
    "               '# boosting rounds' : gbm5.booster_.current_iteration()}, \n",
    "              \n",
    "              'LightGBM with early_stopping, custom training and custom validation loss': \n",
    "              {'asymmetric custom mse (test)': loss_gbm6,\n",
    "               'asymmetric custom mse (train)': custom_asymmetric_eval(y_train, gbm6.predict(X_train))[1],\n",
    "               'symmetric mse': mean_squared_error(y_test, gbm6.predict(X_test)),\n",
    "               '# boosting rounds' : gbm6.booster_.current_iteration()}\n",
    "             \n",
    "             }"
   ]
  },
  {
   "cell_type": "code",
   "execution_count": null,
   "metadata": {},
   "outputs": [],
   "source": [
    "pd.DataFrame(score_dict).T"
   ]
  },
  {
   "cell_type": "markdown",
   "metadata": {},
   "source": [
    "#### Plots"
   ]
  },
  {
   "cell_type": "markdown",
   "metadata": {},
   "source": [
    "Density plot to show comparison of LightGBM with symmetric and with asymmetric MSE functions"
   ]
  },
  {
   "cell_type": "code",
   "execution_count": null,
   "metadata": {},
   "outputs": [],
   "source": [
    "fig, ax = plt.subplots(figsize=(12,6))\n",
    "ax = sns.distplot(y_test - gbm.predict(X_test), hist = False, kde = True,\n",
    "             kde_kws = {'shade': True, 'linewidth': 3}, axlabel=\"Residual\", label = \"LightGBM with default mse\")\n",
    "ax = sns.distplot(y_test - gbm3.predict(X_test), hist = False, kde = True,\n",
    "             kde_kws = {'shade': True, 'linewidth': 3}, axlabel=\"Residual\", label = \"LightGBM with asymmetric mse\")\n",
    "\n",
    "# control x and y limits\n",
    "ax.set_xlim(-3, 3)\n",
    "\n",
    "title = ax.set_title('Kernel density plot of residuals', size=15)"
   ]
  },
  {
   "cell_type": "markdown",
   "metadata": {},
   "source": [
    "Scatter plots"
   ]
  },
  {
   "cell_type": "code",
   "execution_count": null,
   "metadata": {},
   "outputs": [],
   "source": [
    "fig, ax = plt.subplots(nrows=1, ncols=3, figsize=(12,5))\n",
    "ax1, ax2, ax3 = ax.flatten()\n",
    "\n",
    "ax1.plot(rf.predict(X_test), y_test, 'o', color='#1c9099')\n",
    "ax1.set_xlabel('Predictions')\n",
    "ax1.set_ylabel('Actuals')\n",
    "ax1.set_title('Random Forest')  \n",
    "\n",
    "ax2.plot(gbm.predict(X_test), y_test, 'o', color='#1c9099')\n",
    "ax2.set_xlabel('Predictions')\n",
    "ax2.set_ylabel('Actuals')\n",
    "ax2.set_title('LightGBM default') \n",
    "\n",
    "ax3.plot(gbm6.predict(X_test), y_test, 'o', color='#1c9099')\n",
    "ax3.set_xlabel('Predictions')\n",
    "ax3.set_ylabel('Actuals')\n",
    "ax3.set_title('LightGBM with early_stopping, \\n custom objective and custom evalution') \n",
    "\n",
    "fig.suptitle(\"Scatter plots of predictions vs. actual targets for different models\", y = 1.05, fontsize=15)\n",
    "fig.tight_layout()"
   ]
  },
  {
   "cell_type": "markdown",
   "metadata": {},
   "source": [
    "Error histograms"
   ]
  },
  {
   "cell_type": "code",
   "execution_count": null,
   "metadata": {},
   "outputs": [],
   "source": [
    "fig, ax = plt.subplots(nrows=1, ncols=3, figsize=(12,5))\n",
    "ax1, ax2, ax3 = ax.flatten()\n",
    "\n",
    "ax1.hist(y_test - rf.predict(X_test), bins=50, color='#1c9099')\n",
    "ax1.axvline(x=0, ymin=0, ymax=500, color='black', lw=1.2)\n",
    "ax1.set_xlabel('Residuals')\n",
    "ax1.set_title('Random Forest')  \n",
    "ax1.set_ylabel('# observations')\n",
    "\n",
    "ax2.hist(y_test - gbm.predict(X_test), bins=50,  color='#1c9099')\n",
    "ax2.axvline(x=0, ymin=0, ymax=500, color='black', lw=1.2)\n",
    "ax2.set_xlabel('Residuals')\n",
    "ax2.set_ylabel('# observations')\n",
    "ax2.set_title('LightGBM default') \n",
    "\n",
    "ax3.hist(y_test - gbm6.predict(X_test), bins=50,  color='#1c9099')\n",
    "ax3.axvline(x=0, ymin=0, ymax=500, color='black', lw=1.2)\n",
    "ax3.set_xlabel('Residuals')\n",
    "ax3.set_ylabel('# observations')\n",
    "ax3.set_title('LightGBM with early_stopping, \\n custom objective and custom evalution') \n",
    "\n",
    "fig.suptitle(\"Error histograms of predictions from different models\", y = 1.05, fontsize=15)\n",
    "fig.tight_layout()"
   ]
  },
  {
   "cell_type": "markdown",
   "metadata": {},
   "source": [
    "### End"
   ]
  }
 ],
 "metadata": {
  "kernelspec": {
   "display_name": "Python 3",
   "language": "python",
   "name": "python3"
  },
  "language_info": {
   "codemirror_mode": {
    "name": "ipython",
    "version": 3
   },
   "file_extension": ".py",
   "mimetype": "text/x-python",
   "name": "python",
   "nbconvert_exporter": "python",
   "pygments_lexer": "ipython3",
   "version": "3.6.7"
  },
  "toc": {
   "base_numbering": 1,
   "nav_menu": {},
   "number_sections": true,
   "sideBar": true,
   "skip_h1_title": false,
   "title_cell": "Table of Contents",
   "title_sidebar": "Contents",
   "toc_cell": false,
   "toc_position": {
    "height": "calc(100% - 180px)",
    "left": "10px",
    "top": "150px",
    "width": "265px"
   },
   "toc_section_display": true,
   "toc_window_display": true
  }
 },
 "nbformat": 4,
 "nbformat_minor": 2
}
